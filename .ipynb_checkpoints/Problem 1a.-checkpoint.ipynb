{
 "cells": [
  {
   "cell_type": "code",
   "execution_count": 1,
   "metadata": {},
   "outputs": [
    {
     "data": {
      "text/plain": [
       "<Figure size 640x480 with 1 Axes>"
      ]
     },
     "metadata": {},
     "output_type": "display_data"
    }
   ],
   "source": [
    "import matplotlib.pyplot as plt\n",
    "import random\n",
    "\n",
    "\n",
    "#Generating the Unit Square ----\n",
    "xUnitSquare = [0, 1, 0, 1]\n",
    "yUnitSquare = [0, 1, 0, 1]\n",
    "fig, ax = plt.subplots()\n",
    "ax.fill(xUnitSquare, yUnitSquare)\n",
    "plt.show()"
   ]
  },
  {
   "cell_type": "code",
   "execution_count": 2,
   "metadata": {},
   "outputs": [
    {
     "name": "stdout",
     "output_type": "stream",
     "text": [
      "0.21069169414823818\n",
      "0.7678417910534499\n",
      "0.01709098994312075\n",
      "0.6910178752745392\n",
      "0.0505775764766867\n",
      "0.5226753950078097\n",
      "0.44145028855769675\n",
      "0.4206715389239666\n",
      "0.38427241182989036\n",
      "0.7708689518825029\n"
     ]
    }
   ],
   "source": [
    "# Lets see how well the random.uniform works in the documentation.\n",
    "\n",
    "count = 0\n",
    "while(count < 10):\n",
    "    x = random.uniform(0, 1)\n",
    "    print(x)\n",
    "    count+=1"
   ]
  },
  {
   "cell_type": "code",
   "execution_count": 9,
   "metadata": {},
   "outputs": [],
   "source": [
    "# Good enough tbh -- Now lets Create the Algorithm ---\n",
    "\n",
    "def plotRandomPoints(N_SIZE):\n",
    "    count = 0\n",
    "    wX = []\n",
    "    wY = []\n",
    "    \n",
    "    while count <= N_SIZE:\n",
    "        # Limiting the size of the float returned by random\n",
    "        wX.append(round(random.uniform(0,1),2))\n",
    "        wY.append(round(random.uniform(0,1),2))\n",
    "        count+=1\n",
    "\n",
    "    wX.sort()\n",
    "    wY.sort()\n",
    "    plt.plot(wX, wY)"
   ]
  },
  {
   "cell_type": "code",
   "execution_count": 10,
   "metadata": {},
   "outputs": [
    {
     "data": {
      "image/png": "[encoded data removed]",
      "text/plain": [
       "<Figure size 432x288 with 1 Axes>"
      ]
     },
     "metadata": {
      "needs_background": "light"
     },
     "output_type": "display_data"
    }
   ],
   "source": [
    "plotRandomPoints(10000)\n",
    "plt.show()"
   ]
  },
  {
   "cell_type": "code",
   "execution_count": null,
   "metadata": {},
   "outputs": [],
   "source": []
  }
 ],
 "metadata": {
  "kernelspec": {
   "display_name": "Python 3",
   "language": "python",
   "name": "python3"
  },
  "language_info": {
   "codemirror_mode": {
    "name": "ipython",
    "version": 3
   },
   "file_extension": ".py",
   "mimetype": "text/x-python",
   "name": "python",
   "nbconvert_exporter": "python",
   "pygments_lexer": "ipython3",
   "version": "3.6.6"
  }
 },
 "nbformat": 4,
 "nbformat_minor": 2
}
