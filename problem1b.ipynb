{
 "cells": [
  {
   "cell_type": "markdown",
   "metadata": {},
   "source": [
    "#### Jared Mulhausen\n",
    "####"
   ]
  },
  {
   "cell_type": "code",
   "execution_count": 9,
   "metadata": {},
   "outputs": [
    {
     "data": {
      "image/png": "[encoded data removed]",
      "text/plain": [
       "<Figure size 432x288 with 1 Axes>"
      ]
     },
     "metadata": {},
     "output_type": "display_data"
    }
   ],
   "source": [
    "import random\n",
    "import matplotlib.pyplot as plt\n",
    "\n",
    "x = [0, 1, 0, 1]\n",
    "y = [0, 1, 0, 1]\n",
    "\n",
    "fig, ax = plt.subplots()\n",
    "ax.fill(x, y)\n",
    "plt.show()\n"
   ]
  },
  {
   "cell_type": "code",
   "execution_count": 10,
   "metadata": {},
   "outputs": [],
   "source": [
    "def monte_carlo(N_SIZE):\n",
    "    n = N_SIZE\n",
    "    #counter \n",
    "    i = 0\n",
    "    inside = 0\n",
    "    total = 0\n",
    "    \n",
    "    # to calculate pi / 4\n",
    "    while(i < n):\n",
    "        # generate the random points\n",
    "        x = random.uniform(0, 1)\n",
    "        y = random.uniform(0, 1)\n",
    "        #calculate\n",
    "        d = x**2 + y**2\n",
    "        if d <= 1:\n",
    "            inside+=1\n",
    "        total+=1\n",
    "        i+=1\n",
    "    estimate = inside / total\n",
    "    return estimate"
   ]
  },
  {
   "cell_type": "code",
   "execution_count": 11,
   "metadata": {},
   "outputs": [
    {
     "data": {
      "image/png": "[encoded data removed]",
      "text/plain": [
       "<Figure size 432x288 with 1 Axes>"
      ]
     },
     "metadata": {},
     "output_type": "display_data"
    }
   ],
   "source": [
    "wX = []\n",
    "wY = []\n",
    "for i in range(1,1000000,100000):\n",
    "    wX.append(i)\n",
    "    wY.append(monte_carlo(i))\n",
    "plt.plot(wX, wY)\n",
    "plt.show()"
   ]
  },
  {
   "cell_type": "code",
   "execution_count": null,
   "metadata": {},
   "outputs": [],
   "source": []
  }
 ],
 "metadata": {
  "kernelspec": {
   "display_name": "Python 3",
   "language": "python",
   "name": "python3"
  },
  "language_info": {
   "codemirror_mode": {
    "name": "ipython",
    "version": 3
   },
   "file_extension": ".py",
   "mimetype": "text/x-python",
   "name": "python",
   "nbconvert_exporter": "python",
   "pygments_lexer": "ipython3",
   "version": "3.6.6"
  }
 },
 "nbformat": 4,
 "nbformat_minor": 2
}
